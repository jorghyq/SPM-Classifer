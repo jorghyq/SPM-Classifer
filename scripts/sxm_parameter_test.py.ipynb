{
 "cells": [
  {
   "cell_type": "code",
   "execution_count": 1,
   "metadata": {
    "collapsed": true
   },
   "outputs": [],
   "source": [
    "import sys\n",
    "sys.path.insert(1,'../classifer/')\n",
    "from nanonisfile import NanonisFile "
   ]
  },
  {
   "cell_type": "code",
   "execution_count": 2,
   "metadata": {
    "collapsed": true
   },
   "outputs": [],
   "source": [
    "sxm = NanonisFile('../test/A151125.005114-01292.sxm')"
   ]
  },
  {
   "cell_type": "code",
   "execution_count": 14,
   "metadata": {
    "collapsed": false
   },
   "outputs": [
    {
     "data": {
      "text/plain": [
       "{'acq_time': 217.1,\n",
       " 'bias': 1.0,\n",
       " 'bias>bias (v)': '1E+0',\n",
       " 'bias>calibration (v/v)': '1E+0',\n",
       " 'bias>offset (v)': '0E+0',\n",
       " 'channel': 11,\n",
       " 'comment': '',\n",
       " 'current>calibration (a/v)': '-100E-12',\n",
       " 'current>current (a)': '52.7605E-12',\n",
       " 'current>gain': 'n/a',\n",
       " 'current>offset (a)': '-801.369E-15',\n",
       " 'data_info': [{'Calibration': '-3.484E-9',\n",
       "   'Channel': '14',\n",
       "   'Direction': 'both',\n",
       "   'Name': 'Z',\n",
       "   'Offset': '0.000E+0',\n",
       "   'Unit': 'm'},\n",
       "  {'Calibration': '-1.000E-10',\n",
       "   'Channel': '0',\n",
       "   'Direction': 'both',\n",
       "   'Name': 'Current',\n",
       "   'Offset': '-8.014E-13',\n",
       "   'Unit': 'A'},\n",
       "  {'Calibration': '1.800E+1',\n",
       "   'Channel': '16',\n",
       "   'Direction': 'both',\n",
       "   'Name': 'Phase',\n",
       "   'Offset': '0.000E+0',\n",
       "   'Unit': 'deg'},\n",
       "  {'Calibration': '5.065E-11',\n",
       "   'Channel': '17',\n",
       "   'Direction': 'both',\n",
       "   'Name': 'Amplitude',\n",
       "   'Offset': '0.000E+0',\n",
       "   'Unit': 'm'},\n",
       "  {'Calibration': '1.907E+0',\n",
       "   'Channel': '18',\n",
       "   'Direction': 'both',\n",
       "   'Name': 'Frequency_Shift',\n",
       "   'Offset': '0.000E+0',\n",
       "   'Unit': 'Hz'},\n",
       "  {'Calibration': '1.000E-1',\n",
       "   'Channel': '19',\n",
       "   'Direction': 'both',\n",
       "   'Name': 'Excitation',\n",
       "   'Offset': '0.000E+0',\n",
       "   'Unit': 'V'}],\n",
       " 'ext. vi 1>temperature (v)': '1,5469E+0',\n",
       " 'filename': '../test/A151125.005114-01292.sxm',\n",
       " 'lock-in>amplitude': '28E-3',\n",
       " 'lock-in>demodulated signal': 'Current (A)',\n",
       " 'lock-in>frequency (hz)': '461E+0',\n",
       " 'lock-in>harmonic': '2',\n",
       " 'lock-in>lock-in status': 'OFF',\n",
       " 'lock-in>modulated signal': 'Bias (V)',\n",
       " 'lock-in>reference phase (deg)': '-157.111E+0',\n",
       " 'nanonismain>animations period (s)': '20E-3',\n",
       " 'nanonismain>indicators period (s)': '300E-3',\n",
       " 'nanonismain>measurements period (s)': '500E-3',\n",
       " 'nanonismain>rt frequency (hz)': '10E+3',\n",
       " 'nanonismain>rt release': '5747',\n",
       " 'nanonismain>session path': 'C:\\\\AFM\\\\_data\\\\201510',\n",
       " 'nanonismain>signals oversampling': '10',\n",
       " 'nanonismain>sw version': 'Generic 4',\n",
       " 'nanonismain>ui release': '5818',\n",
       " 'oscillation control>amplitude controller on': 'FALSE',\n",
       " 'oscillation control>amplitude i gain (v/nm/s)': '42.7331E+9',\n",
       " 'oscillation control>amplitude p gain (v/nm)': '36.5243E+9',\n",
       " 'oscillation control>amplitude setpoint (m)': '100E-12',\n",
       " 'oscillation control>center frequency (hz)': '22.6297E+3',\n",
       " 'oscillation control>cut off frq (hz)': '389',\n",
       " 'oscillation control>differential input': 'FALSE',\n",
       " 'oscillation control>excitation (v)': '1E+0',\n",
       " 'oscillation control>frequencyshift (hz)': '-12.5101E+0',\n",
       " 'oscillation control>harmonic': '1',\n",
       " 'oscillation control>input 1/10': 'FALSE',\n",
       " 'oscillation control>input calibration (m/v)': '47.72E-9',\n",
       " 'oscillation control>input range (m)': '506.532E-12',\n",
       " 'oscillation control>output add': 'FALSE',\n",
       " 'oscillation control>output divider': '1',\n",
       " 'oscillation control>output off': 'TRUE',\n",
       " 'oscillation control>phase controller on': 'FALSE',\n",
       " 'oscillation control>phase i gain (hz/rad/s)': '408.403E-3',\n",
       " 'oscillation control>phase p gain (hz/rad)': '349.066E-3',\n",
       " 'oscillation control>pll-setup amplitude/excitation (m/v)': '13.233E-9',\n",
       " 'oscillation control>pll-setup demod. bandwidth amp (hz)': '90E+0',\n",
       " 'oscillation control>pll-setup demod. bandwidth pha (hz)': '20E+0',\n",
       " 'oscillation control>pll-setup q-factor': '60.764E+3',\n",
       " 'oscillation control>range (hz)': '19.0735E+0',\n",
       " 'oscillation control>reference phase (deg)': '112.121E+0',\n",
       " 'piezo calibration>2nd order corr x (v/m^2)': '0E+0',\n",
       " 'piezo calibration>2nd order corr y (v/m^2)': '0E+0',\n",
       " 'piezo calibration>active calib.': '4K',\n",
       " 'piezo calibration>calib. x (m/v)': '3.8887E-9',\n",
       " 'piezo calibration>calib. y (m/v)': '3.6202E-9',\n",
       " 'piezo calibration>calib. z (m/v)': '-871E-12',\n",
       " 'piezo calibration>curvature radius x (m)': 'Inf',\n",
       " 'piezo calibration>curvature radius y (m)': 'Inf',\n",
       " 'piezo calibration>drift correction status (on/off)': 'FALSE',\n",
       " 'piezo calibration>drift x (m/s)': '0E+0',\n",
       " 'piezo calibration>drift y (m/s)': '0E+0',\n",
       " 'piezo calibration>drift z (m/s)': '0E+0',\n",
       " 'piezo calibration>hv gain x': '10',\n",
       " 'piezo calibration>hv gain y': '10',\n",
       " 'piezo calibration>hv gain z': '4',\n",
       " 'piezo calibration>tilt x (deg)': '-0.763331',\n",
       " 'piezo calibration>tilt y (deg)': '-0.791252',\n",
       " 'rec_date': '25.11.2015',\n",
       " 'rec_temp': 290.0,\n",
       " 'rec_time': '00:47:37',\n",
       " 'scan>channels': 'Current (A);Z (m);Phase (deg);Amplitude (m);Frequency Shift (Hz);Excitation (V)',\n",
       " 'scan>lines': '256',\n",
       " 'scan>pixels/line': '256',\n",
       " 'scan>scanfield': '-51.3701E-9;237.02E-9;50E-9;50E-9;0E+0',\n",
       " 'scan>series name': 'A%y%m%d.%H%M%S-%N',\n",
       " 'scan>speed backw. (m/s)': '177.557E-9',\n",
       " 'scan>speed forw. (m/s)': '88.7784E-9',\n",
       " 'scan_angle': 0.0,\n",
       " 'scan_dir': 'up',\n",
       " 'scan_file': 'C:\\\\AFM\\\\_data\\\\201510\\\\A151125.005114-01292.sxm',\n",
       " 'scan_offset': [-5.137008e-08, 2.3702e-07],\n",
       " 'scan_pixels': [256.0, 256.0],\n",
       " 'scan_range': [5e-08, 5e-08],\n",
       " 'scan_time': [0.5632, 0.2816],\n",
       " 'scanit_type': 'FLOAT            MSBFIRST',\n",
       " 'version': 2,\n",
       " 'z-controller': {'I-gain': '1.671E-8 m/s',\n",
       "  'Name': 'log Current',\n",
       "  'P-gain': '3.224E-10 m',\n",
       "  'Setpoint': '5.332E-11 A',\n",
       "  'T-const': '1.930E-2 s',\n",
       "  'on': '1'},\n",
       " 'z-controller>controller name': 'log Current',\n",
       " 'z-controller>controller status': 'ON',\n",
       " 'z-controller>i gain': '16.7092E-9',\n",
       " 'z-controller>p gain': '322.433E-12',\n",
       " 'z-controller>setpoint': '53.3243E-12',\n",
       " 'z-controller>setpoint unit': 'A',\n",
       " 'z-controller>switch off delay (s)': '50E-3',\n",
       " 'z-controller>time const (s)': '19.2968E-3',\n",
       " 'z-controller>tiplift (m)': '0E+0',\n",
       " 'z-controller>z (m)': '-7.16446E-9'}"
      ]
     },
     "execution_count": 14,
     "metadata": {},
     "output_type": "execute_result"
    }
   ],
   "source": [
    "sxm.header"
   ]
  },
  {
   "cell_type": "code",
   "execution_count": 15,
   "metadata": {
    "collapsed": false
   },
   "outputs": [
    {
     "data": {
      "text/plain": [
       "'ON'"
      ]
     },
     "execution_count": 15,
     "metadata": {},
     "output_type": "execute_result"
    }
   ],
   "source": [
    "sxm.header['z-controller>controller status']"
   ]
  },
  {
   "cell_type": "code",
   "execution_count": 16,
   "metadata": {
    "collapsed": false
   },
   "outputs": [
    {
     "data": {
      "text/plain": [
       "[256.0, 256.0]"
      ]
     },
     "execution_count": 16,
     "metadata": {},
     "output_type": "execute_result"
    }
   ],
   "source": [
    "sxm.header['scan_pixels']"
   ]
  },
  {
   "cell_type": "code",
   "execution_count": 17,
   "metadata": {
    "collapsed": false
   },
   "outputs": [
    {
     "data": {
      "text/plain": [
       "[5e-08, 5e-08]"
      ]
     },
     "execution_count": 17,
     "metadata": {},
     "output_type": "execute_result"
    }
   ],
   "source": [
    "sxm.header['scan_range']"
   ]
  },
  {
   "cell_type": "code",
   "execution_count": 18,
   "metadata": {
    "collapsed": false
   },
   "outputs": [
    {
     "data": {
      "text/plain": [
       "217.1"
      ]
     },
     "execution_count": 18,
     "metadata": {},
     "output_type": "execute_result"
    }
   ],
   "source": [
    "sxm.header['acq_time']"
   ]
  },
  {
   "cell_type": "code",
   "execution_count": 21,
   "metadata": {
    "collapsed": false
   },
   "outputs": [
    {
     "data": {
      "text/plain": [
       "[0.5632, 0.2816]"
      ]
     },
     "execution_count": 21,
     "metadata": {},
     "output_type": "execute_result"
    }
   ],
   "source": [
    "sxm.header['scan_time']"
   ]
  },
  {
   "cell_type": "code",
   "execution_count": 22,
   "metadata": {
    "collapsed": false
   },
   "outputs": [
    {
     "data": {
      "text/plain": [
       "216.2688"
      ]
     },
     "execution_count": 22,
     "metadata": {},
     "output_type": "execute_result"
    }
   ],
   "source": [
    "256*(0.5632+0.2816)"
   ]
  },
  {
   "cell_type": "code",
   "execution_count": null,
   "metadata": {
    "collapsed": true
   },
   "outputs": [],
   "source": []
  }
 ],
 "metadata": {
  "kernelspec": {
   "display_name": "Python 2",
   "language": "python",
   "name": "python2"
  },
  "language_info": {
   "codemirror_mode": {
    "name": "ipython",
    "version": 2
   },
   "file_extension": ".py",
   "mimetype": "text/x-python",
   "name": "python",
   "nbconvert_exporter": "python",
   "pygments_lexer": "ipython2",
   "version": "2.7.5"
  }
 },
 "nbformat": 4,
 "nbformat_minor": 1
}
